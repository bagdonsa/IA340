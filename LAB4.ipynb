{
 "cells": [
  {
   "cell_type": "markdown",
   "id": "a5ed9cd0",
   "metadata": {},
   "source": [
    "# lab4"
   ]
  },
  {
   "cell_type": "markdown",
   "id": "eb25f03c",
   "metadata": {},
   "source": [
    "# import python labs"
   ]
  },
  {
   "cell_type": "code",
   "execution_count": 1,
   "id": "a0928895",
   "metadata": {},
   "outputs": [
    {
     "name": "stderr",
     "output_type": "stream",
     "text": [
      "/home/ec2-user/anaconda3/envs/python3/lib/python3.6/site-packages/psycopg2/__init__.py:144: UserWarning: The psycopg2 wheel package will be renamed from release 2.8; in order to keep installing from binary please use \"pip install psycopg2-binary\" instead. For details see: <http://initd.org/psycopg/docs/install.html#binary-install-from-pypi>.\n",
      "  \"\"\")\n"
     ]
    }
   ],
   "source": [
    "import pandas\n",
    "import configparser\n",
    "import psycopg2"
   ]
  },
  {
   "cell_type": "markdown",
   "id": "f5703c78",
   "metadata": {},
   "source": [
    "# connect to db"
   ]
  },
  {
   "cell_type": "code",
   "execution_count": 2,
   "id": "011ca054",
   "metadata": {},
   "outputs": [],
   "source": [
    "config = configparser.ConfigParser()\n",
    "config.read('config.ini')\n",
    "\n",
    "host=config['myaws']['host']\n",
    "db=config['myaws']['db']\n",
    "user=config['myaws']['user']\n",
    "pwd = config['myaws']['pwd']\n",
    "\n",
    "conn = psycopg2.connect(  host=host,\n",
    "                       user=user,\n",
    "                       password = pwd,\n",
    "                       dbname=db)"
   ]
  },
  {
   "cell_type": "code",
   "execution_count": 3,
   "id": "c5e21dc7",
   "metadata": {},
   "outputs": [],
   "source": [
    "cur=conn.cursor()"
   ]
  },
  {
   "cell_type": "markdown",
   "id": "81bf191c",
   "metadata": {},
   "source": [
    "# q1"
   ]
  },
  {
   "cell_type": "code",
   "execution_count": 4,
   "id": "6d7cab6a",
   "metadata": {},
   "outputs": [],
   "source": [
    "sql_statement = \"\"\"\n",
    "        select * from gp4.student\n",
    "        \"\"\""
   ]
  },
  {
   "cell_type": "code",
   "execution_count": 5,
   "id": "c0589c38",
   "metadata": {},
   "outputs": [
    {
     "data": {
      "text/html": [
       "<div>\n",
       "<style scoped>\n",
       "    .dataframe tbody tr th:only-of-type {\n",
       "        vertical-align: middle;\n",
       "    }\n",
       "\n",
       "    .dataframe tbody tr th {\n",
       "        vertical-align: top;\n",
       "    }\n",
       "\n",
       "    .dataframe thead th {\n",
       "        text-align: right;\n",
       "    }\n",
       "</style>\n",
       "<table border=\"1\" class=\"dataframe\">\n",
       "  <thead>\n",
       "    <tr style=\"text-align: right;\">\n",
       "      <th></th>\n",
       "      <th>s_email</th>\n",
       "      <th>s_name</th>\n",
       "      <th>s_major</th>\n",
       "    </tr>\n",
       "  </thead>\n",
       "  <tbody>\n",
       "    <tr>\n",
       "      <th>0</th>\n",
       "      <td>bobj@dukes.jmu.edu</td>\n",
       "      <td>Joe Bob</td>\n",
       "      <td>Intelligence Analysis</td>\n",
       "    </tr>\n",
       "    <tr>\n",
       "      <th>1</th>\n",
       "      <td>jameslb@dukes.jmu.edu</td>\n",
       "      <td>LeBron James</td>\n",
       "      <td>Intelligence Analysis</td>\n",
       "    </tr>\n",
       "    <tr>\n",
       "      <th>2</th>\n",
       "      <td>doej@dukes.jmu.edu</td>\n",
       "      <td>Jill Doe</td>\n",
       "      <td>Intelligence Analysis</td>\n",
       "    </tr>\n",
       "    <tr>\n",
       "      <th>3</th>\n",
       "      <td>bondj@dukes.jmu.edu</td>\n",
       "      <td>James Bond</td>\n",
       "      <td>Intelligence Analysis</td>\n",
       "    </tr>\n",
       "  </tbody>\n",
       "</table>\n",
       "</div>"
      ],
      "text/plain": [
       "                 s_email        s_name                s_major\n",
       "0     bobj@dukes.jmu.edu       Joe Bob  Intelligence Analysis\n",
       "1  jameslb@dukes.jmu.edu  LeBron James  Intelligence Analysis\n",
       "2     doej@dukes.jmu.edu      Jill Doe  Intelligence Analysis\n",
       "3    bondj@dukes.jmu.edu    James Bond  Intelligence Analysis"
      ]
     },
     "execution_count": 5,
     "metadata": {},
     "output_type": "execute_result"
    }
   ],
   "source": [
    "df=pandas.read_sql_query(sql_statement,conn)\n",
    "df[:]"
   ]
  },
  {
   "cell_type": "markdown",
   "id": "0e2244c2",
   "metadata": {},
   "source": [
    "# q2"
   ]
  },
  {
   "cell_type": "code",
   "execution_count": 8,
   "id": "41befb47",
   "metadata": {},
   "outputs": [
    {
     "name": "stdout",
     "output_type": "stream",
     "text": [
      "\n",
      "        select gp4.professor.p_name,\n",
      "        gp4.course.c_name\n",
      "        from gp4.professor\n",
      "        inner join gp4.course\n",
      "        on gp4.professor.p_email = gp4.course.p_email\n",
      "        \n"
     ]
    }
   ],
   "source": [
    "sql_statement = \"\"\"\n",
    "        select gp4.professor.p_name,\n",
    "        gp4.course.c_name\n",
    "        from gp4.professor\n",
    "        inner join gp4.course\n",
    "        on gp4.professor.p_email = gp4.course.p_email\n",
    "        \"\"\"\n",
    "print(sql_statement)"
   ]
  },
  {
   "cell_type": "code",
   "execution_count": 9,
   "id": "bc71ec1a",
   "metadata": {},
   "outputs": [
    {
     "data": {
      "text/html": [
       "<div>\n",
       "<style scoped>\n",
       "    .dataframe tbody tr th:only-of-type {\n",
       "        vertical-align: middle;\n",
       "    }\n",
       "\n",
       "    .dataframe tbody tr th {\n",
       "        vertical-align: top;\n",
       "    }\n",
       "\n",
       "    .dataframe thead th {\n",
       "        text-align: right;\n",
       "    }\n",
       "</style>\n",
       "<table border=\"1\" class=\"dataframe\">\n",
       "  <thead>\n",
       "    <tr style=\"text-align: right;\">\n",
       "      <th></th>\n",
       "      <th>p_name</th>\n",
       "      <th>c_name</th>\n",
       "    </tr>\n",
       "  </thead>\n",
       "  <tbody>\n",
       "    <tr>\n",
       "      <th>0</th>\n",
       "      <td>Xuebin Wei</td>\n",
       "      <td>Data Mining, Modeling and Knowledge Discovery ...</td>\n",
       "    </tr>\n",
       "    <tr>\n",
       "      <th>1</th>\n",
       "      <td>Stephen P Marrin</td>\n",
       "      <td>Seminar on Issues in Intelligence Analysis</td>\n",
       "    </tr>\n",
       "    <tr>\n",
       "      <th>2</th>\n",
       "      <td>Barry Larry</td>\n",
       "      <td>Topics in IA</td>\n",
       "    </tr>\n",
       "    <tr>\n",
       "      <th>3</th>\n",
       "      <td>Barry Larry</td>\n",
       "      <td>Hypothesis Testing</td>\n",
       "    </tr>\n",
       "    <tr>\n",
       "      <th>4</th>\n",
       "      <td>Ronald Raab</td>\n",
       "      <td>Awareness and Understanding of Chemical, Biolo...</td>\n",
       "    </tr>\n",
       "  </tbody>\n",
       "</table>\n",
       "</div>"
      ],
      "text/plain": [
       "             p_name                                             c_name\n",
       "0        Xuebin Wei  Data Mining, Modeling and Knowledge Discovery ...\n",
       "1  Stephen P Marrin         Seminar on Issues in Intelligence Analysis\n",
       "2       Barry Larry                                       Topics in IA\n",
       "3       Barry Larry                                 Hypothesis Testing\n",
       "4       Ronald Raab  Awareness and Understanding of Chemical, Biolo..."
      ]
     },
     "execution_count": 9,
     "metadata": {},
     "output_type": "execute_result"
    }
   ],
   "source": [
    "df=pandas.read_sql_query(sql_statement,conn)\n",
    "df[:]"
   ]
  },
  {
   "cell_type": "markdown",
   "id": "08ed2c1e",
   "metadata": {},
   "source": [
    "# q3"
   ]
  },
  {
   "cell_type": "code",
   "execution_count": 10,
   "id": "2c61f2b2",
   "metadata": {},
   "outputs": [
    {
     "name": "stdout",
     "output_type": "stream",
     "text": [
      "\n",
      "        select c_number,\n",
      "        count(*) as num_enroll\n",
      "        from gp4.enroll_list\n",
      "        group by c_number\n",
      "        \n"
     ]
    }
   ],
   "source": [
    "sql_statement = \"\"\"\n",
    "        select c_number,\n",
    "        count(*) as num_enroll\n",
    "        from gp4.enroll_list\n",
    "        group by c_number\n",
    "        \"\"\"\n",
    "print(sql_statement)"
   ]
  },
  {
   "cell_type": "code",
   "execution_count": 11,
   "id": "bd3f1a95",
   "metadata": {},
   "outputs": [
    {
     "data": {
      "text/plain": [
       "<AxesSubplot:xlabel='c_number'>"
      ]
     },
     "execution_count": 11,
     "metadata": {},
     "output_type": "execute_result"
    },
    {
     "data": {
      "image/png": "[encoded data removed]",
      "text/plain": [
       "<Figure size 432x288 with 1 Axes>"
      ]
     },
     "metadata": {
      "needs_background": "light"
     },
     "output_type": "display_data"
    }
   ],
   "source": [
    "df=pandas.read_sql_query(sql_statement,conn)\n",
    "\n",
    "df.plot.bar(x='c_number',y='num_enroll')"
   ]
  },
  {
   "cell_type": "markdown",
   "id": "3506857a",
   "metadata": {},
   "source": [
    "# q4"
   ]
  },
  {
   "cell_type": "code",
   "execution_count": 12,
   "id": "ce9b34e8",
   "metadata": {},
   "outputs": [
    {
     "name": "stdout",
     "output_type": "stream",
     "text": [
      "\n",
      "        select gp4.professor.p_name,\n",
      "        count(*) as c_teach\n",
      "        from gp4.professor\n",
      "        inner join gp4.course\n",
      "        on gp4.professor.p_email = gp4.course.p_email\n",
      "        group by gp4.professor.p_name\n",
      "        \n"
     ]
    }
   ],
   "source": [
    "sql_statement = \"\"\"\n",
    "        select gp4.professor.p_name,\n",
    "        count(*) as c_teach\n",
    "        from gp4.professor\n",
    "        inner join gp4.course\n",
    "        on gp4.professor.p_email = gp4.course.p_email\n",
    "        group by gp4.professor.p_name\n",
    "        \"\"\"\n",
    "print(sql_statement)"
   ]
  },
  {
   "cell_type": "code",
   "execution_count": 13,
   "id": "363ffa1a",
   "metadata": {},
   "outputs": [
    {
     "data": {
      "text/plain": [
       "<AxesSubplot:xlabel='p_name'>"
      ]
     },
     "execution_count": 13,
     "metadata": {},
     "output_type": "execute_result"
    },
    {
     "data": {
      "image/png": "[encoded data removed]",
      "text/plain": [
       "<Figure size 432x288 with 1 Axes>"
      ]
     },
     "metadata": {
      "needs_background": "light"
     },
     "output_type": "display_data"
    }
   ],
   "source": [
    "df=pandas.read_sql_query(sql_statement,conn)\n",
    "\n",
    "df.plot.bar(x='p_name',y='c_teach')"
   ]
  },
  {
   "cell_type": "markdown",
   "id": "add8e159",
   "metadata": {},
   "source": [
    "# q5"
   ]
  },
  {
   "cell_type": "code",
   "execution_count": 21,
   "id": "dce22864",
   "metadata": {},
   "outputs": [
    {
     "name": "stdout",
     "output_type": "stream",
     "text": [
      "\n",
      "                insert into gp4.professor(p_email,p_name,office)\n",
      "                values('tzus@jmu.edu','Sun Tzu','ISAT/CS 0001')\n",
      "                                \n",
      "                \n"
     ]
    }
   ],
   "source": [
    "sql_statement = \"\"\"\n",
    "                insert into gp4.professor(p_email,p_name,office)\n",
    "                values('{}','{}','{}')\n",
    "                                \n",
    "                \"\"\".format('tzus@jmu.edu','Sun Tzu','ISAT/CS 0001')\n",
    "\n",
    "print(sql_statement)"
   ]
  },
  {
   "cell_type": "code",
   "execution_count": 22,
   "id": "70f6fe78",
   "metadata": {},
   "outputs": [],
   "source": [
    "cur.execute(sql_statement)"
   ]
  },
  {
   "cell_type": "code",
   "execution_count": 25,
   "id": "fc66fafd",
   "metadata": {},
   "outputs": [],
   "source": [
    "conn.commit()"
   ]
  },
  {
   "cell_type": "code",
   "execution_count": 35,
   "id": "14e6276e",
   "metadata": {},
   "outputs": [
    {
     "data": {
      "text/html": [
       "<div>\n",
       "<style scoped>\n",
       "    .dataframe tbody tr th:only-of-type {\n",
       "        vertical-align: middle;\n",
       "    }\n",
       "\n",
       "    .dataframe tbody tr th {\n",
       "        vertical-align: top;\n",
       "    }\n",
       "\n",
       "    .dataframe thead th {\n",
       "        text-align: right;\n",
       "    }\n",
       "</style>\n",
       "<table border=\"1\" class=\"dataframe\">\n",
       "  <thead>\n",
       "    <tr style=\"text-align: right;\">\n",
       "      <th></th>\n",
       "      <th>p_email</th>\n",
       "      <th>p_name</th>\n",
       "      <th>office</th>\n",
       "    </tr>\n",
       "  </thead>\n",
       "  <tbody>\n",
       "    <tr>\n",
       "      <th>0</th>\n",
       "      <td>marrinsp@jmu.edu</td>\n",
       "      <td>Stephen P Marrin</td>\n",
       "      <td>EnGeo 2104</td>\n",
       "    </tr>\n",
       "    <tr>\n",
       "      <th>1</th>\n",
       "      <td>weixx@jmu.edu</td>\n",
       "      <td>Xuebin Wei</td>\n",
       "      <td>ISAT/CS 112</td>\n",
       "    </tr>\n",
       "    <tr>\n",
       "      <th>2</th>\n",
       "      <td>larryb@jmu.edu</td>\n",
       "      <td>Barry Larry</td>\n",
       "      <td>ISAT/CS 420</td>\n",
       "    </tr>\n",
       "    <tr>\n",
       "      <th>3</th>\n",
       "      <td>raabrw@jmu.edu</td>\n",
       "      <td>Ronald Raab</td>\n",
       "      <td>ISAT/CS 156</td>\n",
       "    </tr>\n",
       "    <tr>\n",
       "      <th>4</th>\n",
       "      <td>tzus@jmu.edu</td>\n",
       "      <td>Sun Tzu</td>\n",
       "      <td>ISAT/CS 0001</td>\n",
       "    </tr>\n",
       "  </tbody>\n",
       "</table>\n",
       "</div>"
      ],
      "text/plain": [
       "            p_email            p_name        office\n",
       "0  marrinsp@jmu.edu  Stephen P Marrin    EnGeo 2104\n",
       "1     weixx@jmu.edu        Xuebin Wei   ISAT/CS 112\n",
       "2    larryb@jmu.edu       Barry Larry   ISAT/CS 420\n",
       "3    raabrw@jmu.edu       Ronald Raab   ISAT/CS 156\n",
       "4      tzus@jmu.edu           Sun Tzu  ISAT/CS 0001"
      ]
     },
     "execution_count": 35,
     "metadata": {},
     "output_type": "execute_result"
    }
   ],
   "source": [
    "df=pandas.read_sql_query('select * from gp4.professor',conn)\n",
    "df[:]"
   ]
  },
  {
   "cell_type": "code",
   "execution_count": 30,
   "id": "4f29dfc0",
   "metadata": {},
   "outputs": [
    {
     "name": "stdout",
     "output_type": "stream",
     "text": [
      "\n",
      "                insert into gp4.course(c_number,c_name,c_room, p_email)\n",
      "                values('IA 555','Art of IA','ISAT/CS 0002','tzus@jmu.edu')\n",
      "                                \n",
      "                \n"
     ]
    }
   ],
   "source": [
    "sql_statement = \"\"\"\n",
    "                insert into gp4.course(c_number,c_name,c_room, p_email)\n",
    "                values('{}','{}','{}','{}')\n",
    "                                \n",
    "                \"\"\".format('IA 555','Art of IA','ISAT/CS 0002','tzus@jmu.edu')\n",
    "\n",
    "print(sql_statement)"
   ]
  },
  {
   "cell_type": "code",
   "execution_count": 33,
   "id": "6b7bd0d9",
   "metadata": {},
   "outputs": [],
   "source": [
    "cur.execute(sql_statement)"
   ]
  },
  {
   "cell_type": "code",
   "execution_count": 34,
   "id": "e7d5b283",
   "metadata": {},
   "outputs": [],
   "source": [
    "conn.commit()"
   ]
  },
  {
   "cell_type": "code",
   "execution_count": 36,
   "id": "4d7a002f",
   "metadata": {},
   "outputs": [
    {
     "data": {
      "text/html": [
       "<div>\n",
       "<style scoped>\n",
       "    .dataframe tbody tr th:only-of-type {\n",
       "        vertical-align: middle;\n",
       "    }\n",
       "\n",
       "    .dataframe tbody tr th {\n",
       "        vertical-align: top;\n",
       "    }\n",
       "\n",
       "    .dataframe thead th {\n",
       "        text-align: right;\n",
       "    }\n",
       "</style>\n",
       "<table border=\"1\" class=\"dataframe\">\n",
       "  <thead>\n",
       "    <tr style=\"text-align: right;\">\n",
       "      <th></th>\n",
       "      <th>c_number</th>\n",
       "      <th>c_name</th>\n",
       "      <th>c_room</th>\n",
       "      <th>p_email</th>\n",
       "    </tr>\n",
       "  </thead>\n",
       "  <tbody>\n",
       "    <tr>\n",
       "      <th>0</th>\n",
       "      <td>IA 340</td>\n",
       "      <td>Data Mining, Modeling and Knowledge Discovery ...</td>\n",
       "      <td>EnGeo 2010</td>\n",
       "      <td>weixx@jmu.edu</td>\n",
       "    </tr>\n",
       "    <tr>\n",
       "      <th>1</th>\n",
       "      <td>IA 300</td>\n",
       "      <td>Seminar on Issues in Intelligence Analysis</td>\n",
       "      <td>ISAT/CS 0150</td>\n",
       "      <td>marrinsp@jmu.edu</td>\n",
       "    </tr>\n",
       "    <tr>\n",
       "      <th>2</th>\n",
       "      <td>IA 401</td>\n",
       "      <td>Topics in IA</td>\n",
       "      <td>EnGeo 0000</td>\n",
       "      <td>larryb@jmu.edu</td>\n",
       "    </tr>\n",
       "    <tr>\n",
       "      <th>3</th>\n",
       "      <td>IA 261</td>\n",
       "      <td>Hypothesis Testing</td>\n",
       "      <td>ISAT/CS 0136</td>\n",
       "      <td>larryb@jmu.edu</td>\n",
       "    </tr>\n",
       "    <tr>\n",
       "      <th>4</th>\n",
       "      <td>IA/ISAT 459</td>\n",
       "      <td>Awareness and Understanding of Chemical, Biolo...</td>\n",
       "      <td>EnGeo 1302</td>\n",
       "      <td>raabrw@jmu.edu</td>\n",
       "    </tr>\n",
       "    <tr>\n",
       "      <th>5</th>\n",
       "      <td>IA 555</td>\n",
       "      <td>Art of IA</td>\n",
       "      <td>ISAT/CS 0002</td>\n",
       "      <td>tzus@jmu.edu</td>\n",
       "    </tr>\n",
       "  </tbody>\n",
       "</table>\n",
       "</div>"
      ],
      "text/plain": [
       "      c_number                                             c_name  \\\n",
       "0       IA 340  Data Mining, Modeling and Knowledge Discovery ...   \n",
       "1       IA 300         Seminar on Issues in Intelligence Analysis   \n",
       "2       IA 401                                       Topics in IA   \n",
       "3       IA 261                                 Hypothesis Testing   \n",
       "4  IA/ISAT 459  Awareness and Understanding of Chemical, Biolo...   \n",
       "5       IA 555                                          Art of IA   \n",
       "\n",
       "         c_room           p_email  \n",
       "0    EnGeo 2010     weixx@jmu.edu  \n",
       "1  ISAT/CS 0150  marrinsp@jmu.edu  \n",
       "2    EnGeo 0000    larryb@jmu.edu  \n",
       "3  ISAT/CS 0136    larryb@jmu.edu  \n",
       "4    EnGeo 1302    raabrw@jmu.edu  \n",
       "5  ISAT/CS 0002      tzus@jmu.edu  "
      ]
     },
     "execution_count": 36,
     "metadata": {},
     "output_type": "execute_result"
    }
   ],
   "source": [
    "df=pandas.read_sql_query('select * from gp4.course',conn)\n",
    "df[:]"
   ]
  },
  {
   "cell_type": "markdown",
   "id": "9829f2cf",
   "metadata": {},
   "source": [
    "# q6"
   ]
  },
  {
   "cell_type": "code",
   "execution_count": 37,
   "id": "2e0bf2da",
   "metadata": {},
   "outputs": [
    {
     "name": "stdout",
     "output_type": "stream",
     "text": [
      "\n",
      "                update gp4.course\n",
      "                set p_email = 'tzus@jmu.edu'\n",
      "                where p_email = 'raabrw@jmu.edu'\n",
      "                \n",
      "                \n"
     ]
    }
   ],
   "source": [
    "sql_statement = \"\"\"\n",
    "                update gp4.course\n",
    "                set p_email = 'tzus@jmu.edu'\n",
    "                where p_email = 'raabrw@jmu.edu'\n",
    "                \n",
    "                \"\"\"\n",
    "\n",
    "print(sql_statement)"
   ]
  },
  {
   "cell_type": "code",
   "execution_count": 38,
   "id": "689ee003",
   "metadata": {},
   "outputs": [],
   "source": [
    "cur.execute(sql_statement)"
   ]
  },
  {
   "cell_type": "code",
   "execution_count": 39,
   "id": "8ff79817",
   "metadata": {},
   "outputs": [],
   "source": [
    "conn.commit()"
   ]
  },
  {
   "cell_type": "code",
   "execution_count": 40,
   "id": "e9061582",
   "metadata": {},
   "outputs": [
    {
     "data": {
      "text/html": [
       "<div>\n",
       "<style scoped>\n",
       "    .dataframe tbody tr th:only-of-type {\n",
       "        vertical-align: middle;\n",
       "    }\n",
       "\n",
       "    .dataframe tbody tr th {\n",
       "        vertical-align: top;\n",
       "    }\n",
       "\n",
       "    .dataframe thead th {\n",
       "        text-align: right;\n",
       "    }\n",
       "</style>\n",
       "<table border=\"1\" class=\"dataframe\">\n",
       "  <thead>\n",
       "    <tr style=\"text-align: right;\">\n",
       "      <th></th>\n",
       "      <th>c_number</th>\n",
       "      <th>c_name</th>\n",
       "      <th>c_room</th>\n",
       "      <th>p_email</th>\n",
       "    </tr>\n",
       "  </thead>\n",
       "  <tbody>\n",
       "    <tr>\n",
       "      <th>0</th>\n",
       "      <td>IA 340</td>\n",
       "      <td>Data Mining, Modeling and Knowledge Discovery ...</td>\n",
       "      <td>EnGeo 2010</td>\n",
       "      <td>weixx@jmu.edu</td>\n",
       "    </tr>\n",
       "    <tr>\n",
       "      <th>1</th>\n",
       "      <td>IA 300</td>\n",
       "      <td>Seminar on Issues in Intelligence Analysis</td>\n",
       "      <td>ISAT/CS 0150</td>\n",
       "      <td>marrinsp@jmu.edu</td>\n",
       "    </tr>\n",
       "    <tr>\n",
       "      <th>2</th>\n",
       "      <td>IA 401</td>\n",
       "      <td>Topics in IA</td>\n",
       "      <td>EnGeo 0000</td>\n",
       "      <td>larryb@jmu.edu</td>\n",
       "    </tr>\n",
       "    <tr>\n",
       "      <th>3</th>\n",
       "      <td>IA 261</td>\n",
       "      <td>Hypothesis Testing</td>\n",
       "      <td>ISAT/CS 0136</td>\n",
       "      <td>larryb@jmu.edu</td>\n",
       "    </tr>\n",
       "    <tr>\n",
       "      <th>4</th>\n",
       "      <td>IA 555</td>\n",
       "      <td>Art of IA</td>\n",
       "      <td>ISAT/CS 0002</td>\n",
       "      <td>tzus@jmu.edu</td>\n",
       "    </tr>\n",
       "    <tr>\n",
       "      <th>5</th>\n",
       "      <td>IA/ISAT 459</td>\n",
       "      <td>Awareness and Understanding of Chemical, Biolo...</td>\n",
       "      <td>EnGeo 1302</td>\n",
       "      <td>tzus@jmu.edu</td>\n",
       "    </tr>\n",
       "  </tbody>\n",
       "</table>\n",
       "</div>"
      ],
      "text/plain": [
       "      c_number                                             c_name  \\\n",
       "0       IA 340  Data Mining, Modeling and Knowledge Discovery ...   \n",
       "1       IA 300         Seminar on Issues in Intelligence Analysis   \n",
       "2       IA 401                                       Topics in IA   \n",
       "3       IA 261                                 Hypothesis Testing   \n",
       "4       IA 555                                          Art of IA   \n",
       "5  IA/ISAT 459  Awareness and Understanding of Chemical, Biolo...   \n",
       "\n",
       "         c_room           p_email  \n",
       "0    EnGeo 2010     weixx@jmu.edu  \n",
       "1  ISAT/CS 0150  marrinsp@jmu.edu  \n",
       "2    EnGeo 0000    larryb@jmu.edu  \n",
       "3  ISAT/CS 0136    larryb@jmu.edu  \n",
       "4  ISAT/CS 0002      tzus@jmu.edu  \n",
       "5    EnGeo 1302      tzus@jmu.edu  "
      ]
     },
     "execution_count": 40,
     "metadata": {},
     "output_type": "execute_result"
    }
   ],
   "source": [
    "df=pandas.read_sql_query('select * from gp4.course',conn)\n",
    "df[:]"
   ]
  },
  {
   "cell_type": "code",
   "execution_count": 41,
   "id": "7e33b867",
   "metadata": {},
   "outputs": [
    {
     "name": "stdout",
     "output_type": "stream",
     "text": [
      "\n",
      "                delete from gp4.professor\n",
      "                where p_email = 'raabrw@jmu.edu'\n",
      "                \n",
      "                \n"
     ]
    }
   ],
   "source": [
    "sql_statement = \"\"\"\n",
    "                delete from gp4.professor\n",
    "                where p_email = 'raabrw@jmu.edu'\n",
    "                \n",
    "                \"\"\"\n",
    "\n",
    "print(sql_statement)"
   ]
  },
  {
   "cell_type": "code",
   "execution_count": 42,
   "id": "b6ef9a93",
   "metadata": {},
   "outputs": [],
   "source": [
    "cur.execute(sql_statement)"
   ]
  },
  {
   "cell_type": "code",
   "execution_count": 43,
   "id": "c782d3b9",
   "metadata": {},
   "outputs": [],
   "source": [
    "conn.commit()"
   ]
  },
  {
   "cell_type": "code",
   "execution_count": 44,
   "id": "1e859a6f",
   "metadata": {},
   "outputs": [
    {
     "data": {
      "text/html": [
       "<div>\n",
       "<style scoped>\n",
       "    .dataframe tbody tr th:only-of-type {\n",
       "        vertical-align: middle;\n",
       "    }\n",
       "\n",
       "    .dataframe tbody tr th {\n",
       "        vertical-align: top;\n",
       "    }\n",
       "\n",
       "    .dataframe thead th {\n",
       "        text-align: right;\n",
       "    }\n",
       "</style>\n",
       "<table border=\"1\" class=\"dataframe\">\n",
       "  <thead>\n",
       "    <tr style=\"text-align: right;\">\n",
       "      <th></th>\n",
       "      <th>p_email</th>\n",
       "      <th>p_name</th>\n",
       "      <th>office</th>\n",
       "    </tr>\n",
       "  </thead>\n",
       "  <tbody>\n",
       "    <tr>\n",
       "      <th>0</th>\n",
       "      <td>marrinsp@jmu.edu</td>\n",
       "      <td>Stephen P Marrin</td>\n",
       "      <td>EnGeo 2104</td>\n",
       "    </tr>\n",
       "    <tr>\n",
       "      <th>1</th>\n",
       "      <td>weixx@jmu.edu</td>\n",
       "      <td>Xuebin Wei</td>\n",
       "      <td>ISAT/CS 112</td>\n",
       "    </tr>\n",
       "    <tr>\n",
       "      <th>2</th>\n",
       "      <td>larryb@jmu.edu</td>\n",
       "      <td>Barry Larry</td>\n",
       "      <td>ISAT/CS 420</td>\n",
       "    </tr>\n",
       "    <tr>\n",
       "      <th>3</th>\n",
       "      <td>tzus@jmu.edu</td>\n",
       "      <td>Sun Tzu</td>\n",
       "      <td>ISAT/CS 0001</td>\n",
       "    </tr>\n",
       "  </tbody>\n",
       "</table>\n",
       "</div>"
      ],
      "text/plain": [
       "            p_email            p_name        office\n",
       "0  marrinsp@jmu.edu  Stephen P Marrin    EnGeo 2104\n",
       "1     weixx@jmu.edu        Xuebin Wei   ISAT/CS 112\n",
       "2    larryb@jmu.edu       Barry Larry   ISAT/CS 420\n",
       "3      tzus@jmu.edu           Sun Tzu  ISAT/CS 0001"
      ]
     },
     "execution_count": 44,
     "metadata": {},
     "output_type": "execute_result"
    }
   ],
   "source": [
    "df=pandas.read_sql_query('select * from gp4.professor',conn)\n",
    "df[:]"
   ]
  },
  {
   "cell_type": "markdown",
   "id": "dd0c0272",
   "metadata": {},
   "source": [
    "# close cursor and connection"
   ]
  },
  {
   "cell_type": "code",
   "execution_count": 45,
   "id": "a39420d4",
   "metadata": {},
   "outputs": [],
   "source": [
    "cur.close()\n",
    "conn.close()"
   ]
  },
  {
   "cell_type": "code",
   "execution_count": null,
   "id": "60843a42",
   "metadata": {},
   "outputs": [],
   "source": []
  }
 ],
 "metadata": {
  "kernelspec": {
   "display_name": "conda_python3",
   "language": "python",
   "name": "conda_python3"
  },
  "language_info": {
   "codemirror_mode": {
    "name": "ipython",
    "version": 3
   },
   "file_extension": ".py",
   "mimetype": "text/x-python",
   "name": "python",
   "nbconvert_exporter": "python",
   "pygments_lexer": "ipython3",
   "version": "3.6.13"
  }
 },
 "nbformat": 4,
 "nbformat_minor": 5
}
